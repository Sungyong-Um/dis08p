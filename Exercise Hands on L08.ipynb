{
 "cells": [
  {
   "cell_type": "code",
   "execution_count": 11,
   "id": "564934af",
   "metadata": {},
   "outputs": [],
   "source": [
    "import requests\n",
    "from bs4 import BeautifulSoup"
   ]
  },
  {
   "cell_type": "code",
   "execution_count": 20,
   "id": "4dccd9f2",
   "metadata": {},
   "outputs": [],
   "source": [
    "def extract_animal_info(url):\n",
    "    response = requests.get(url)\n",
    "\n",
    "    if response.status_code == 200:\n",
    "        soup = BeautifulSoup(response.text, 'html.parser')\n",
    "\n",
    "        headline = soup.find('h1', {'id': 'firstHeading'}).text.strip()\n",
    "\n",
    "        info_box = soup.find('table', {'class': 'infobox'})\n",
    "        binomial_name = class_name = order = None\n",
    "\n",
    "        if info_box:\n",
    "            rows = info_box.find_all('tr')\n",
    "            for row in rows:\n",
    "                header = row.find('th')\n",
    "                data_cell = row.find('td')\n",
    "\n",
    "                if header and data_cell:\n",
    "                    header_text = header.text.strip()\n",
    "                    data_text = data_cell.text.strip()\n",
    "\n",
    "                    if header_text == 'Binomial name':\n",
    "                        binomial_name = data_text\n",
    "                    elif header_text == 'Class':\n",
    "                        class_name = data_text\n",
    "                    elif header_text == 'Order':\n",
    "                        order = data_text\n",
    "\n",
    "\n",
    "        print(f\"Headline: {headline}\")\n",
    "        print(f\"Binomial Name: {binomial_name}\")\n",
    "        print(f\"Class: {class_name}\")\n",
    "        print(f\"Order: {order}\")\n",
    "        print(\"\\n\")"
   ]
  },
  {
   "cell_type": "code",
   "execution_count": 21,
   "id": "7f9c26d7",
   "metadata": {},
   "outputs": [],
   "source": [
    "animal_urls = [\n",
    "    'https://en.wikipedia.org/wiki/Dog',\n",
    "    'https://en.wikipedia.org/wiki/Deer'\n",
    "]"
   ]
  },
  {
   "cell_type": "code",
   "execution_count": 22,
   "id": "a54676aa",
   "metadata": {},
   "outputs": [
    {
     "name": "stdout",
     "output_type": "stream",
     "text": [
      "Headline: Dog\n",
      "Binomial Name: None\n",
      "Class: None\n",
      "Order: None\n",
      "\n",
      "\n",
      "Headline: Deer\n",
      "Binomial Name: None\n",
      "Class: None\n",
      "Order: None\n",
      "\n",
      "\n"
     ]
    }
   ],
   "source": [
    "for animal_url in animal_urls:\n",
    "    extract_animal_info(animal_url)"
   ]
  },
  {
   "cell_type": "code",
   "execution_count": null,
   "id": "0fd3cd9d",
   "metadata": {},
   "outputs": [],
   "source": []
  }
 ],
 "metadata": {
  "kernelspec": {
   "display_name": "Python 3 (ipykernel)",
   "language": "python",
   "name": "python3"
  },
  "language_info": {
   "codemirror_mode": {
    "name": "ipython",
    "version": 3
   },
   "file_extension": ".py",
   "mimetype": "text/x-python",
   "name": "python",
   "nbconvert_exporter": "python",
   "pygments_lexer": "ipython3",
   "version": "3.11.5"
  }
 },
 "nbformat": 4,
 "nbformat_minor": 5
}
